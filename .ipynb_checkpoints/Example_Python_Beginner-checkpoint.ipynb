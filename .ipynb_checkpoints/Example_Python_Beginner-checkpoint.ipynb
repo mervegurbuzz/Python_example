{
 "cells": [
  {
   "cell_type": "markdown",
   "metadata": {},
   "source": [
    "## Problem 1"
   ]
  },
  {
   "cell_type": "markdown",
   "metadata": {},
   "source": [
    "We can create a function that writes the Fibonacci series to an arbitrary boundary:"
   ]
  },
  {
   "cell_type": "code",
   "execution_count": 39,
   "metadata": {},
   "outputs": [],
   "source": [
    "def fib(n):    # write Fibonacci series up to n\n",
    "     \"\"\"Print a Fibonacci series up to n.\"\"\"\n",
    "     a, b = 0, 1\n",
    "     while a < n:\n",
    "         print(a, end=' ')\n",
    "         a, b = b, a+b\n",
    "     print()"
   ]
  },
  {
   "cell_type": "code",
   "execution_count": 40,
   "metadata": {},
   "outputs": [
    {
     "name": "stdout",
     "output_type": "stream",
     "text": [
      "0 1 1 2 3 5 8 13 21 34 55 89 144 233 377 610 987 1597 \n"
     ]
    }
   ],
   "source": [
    "fib(2000)"
   ]
  },
  {
   "cell_type": "markdown",
   "metadata": {},
   "source": [
    "## Problem 2"
   ]
  },
  {
   "cell_type": "markdown",
   "metadata": {},
   "source": [
    "Create a function that takes a string and returns a new string with its first and last characters swapped, except under three conditions:\n",
    "\n",
    "If the length of the string is less than two, return \"Incompatible.\".\n",
    "If the argument is not a string, return \"Incompatible.\".\n",
    "If the first and last characters are the same, return \"Two's a pair.\".\n",
    "Examples\n",
    "flip_end_chars(\"Cat, dog, and mouse.\") ➞ \".at, dog, and mouseC\"\n",
    "\n",
    "flip_end_chars(\"ada\") ➞ \"Two's a pair.\"\n",
    "\n",
    "flip_end_chars(\"Ada\") ➞ \"adA\"\n",
    "\n",
    "flip_end_chars(\"z\") ➞ \"Incompatible.\"\n",
    "\n",
    "flip_end_chars([1, 2, 3]) ➞ \"Incompatible.\""
   ]
  },
  {
   "cell_type": "code",
   "execution_count": 4,
   "metadata": {},
   "outputs": [],
   "source": [
    "def flip_end_chars(txt):\n",
    "  if type(txt) != str or len(txt) < 2:\n",
    "        return \"Incompatible.\"\n",
    "  elif txt[0] == txt[-1]:\n",
    "        return \"Two's a pair.\"\n",
    "  else:\n",
    "        return (txt[-1]+txt[1:-1]+txt[0])"
   ]
  },
  {
   "cell_type": "code",
   "execution_count": 8,
   "metadata": {},
   "outputs": [
    {
     "data": {
      "text/plain": [
       "'Incompatible.'"
      ]
     },
     "execution_count": 8,
     "metadata": {},
     "output_type": "execute_result"
    }
   ],
   "source": [
    "flip_end_chars(\"Cat, dog, and mouse.\") \n",
    "flip_end_chars(\"Ada\") \n",
    "flip_end_chars([1, 2, 3])\n",
    "flip_end_chars(\"z\")"
   ]
  },
  {
   "cell_type": "markdown",
   "metadata": {},
   "source": [
    "##  Carpim Tablosu"
   ]
  },
  {
   "cell_type": "code",
   "execution_count": 9,
   "metadata": {},
   "outputs": [
    {
     "name": "stdout",
     "output_type": "stream",
     "text": [
      "                               ÇARPIM TABLOSU                                \n",
      "\n",
      "1  x 1  =  1    2  x 1  =  2    3  x 1  =  3    4  x 1  =  4    5  x 1  =  5   \n",
      "1  x 2  =  2    2  x 2  =  4    3  x 2  =  6    4  x 2  =  8    5  x 2  = 10   \n",
      "1  x 3  =  3    2  x 3  =  6    3  x 3  =  9    4  x 3  = 12    5  x 3  = 15   \n",
      "1  x 4  =  4    2  x 4  =  8    3  x 4  = 12    4  x 4  = 16    5  x 4  = 20   \n",
      "1  x 5  =  5    2  x 5  = 10    3  x 5  = 15    4  x 5  = 20    5  x 5  = 25   \n",
      "1  x 6  =  6    2  x 6  = 12    3  x 6  = 18    4  x 6  = 24    5  x 6  = 30   \n",
      "1  x 7  =  7    2  x 7  = 14    3  x 7  = 21    4  x 7  = 28    5  x 7  = 35   \n",
      "1  x 8  =  8    2  x 8  = 16    3  x 8  = 24    4  x 8  = 32    5  x 8  = 40   \n",
      "1  x 9  =  9    2  x 9  = 18    3  x 9  = 27    4  x 9  = 36    5  x 9  = 45   \n",
      "1  x 10 = 10    2  x 10 = 20    3  x 10 = 30    4  x 10 = 40    5  x 10 = 50   \n",
      "\n",
      "6  x 1  =  6    7  x 1  =  7    8  x 1  =  8    9  x 1  =  9    10 x 1  = 10   \n",
      "6  x 2  = 12    7  x 2  = 14    8  x 2  = 16    9  x 2  = 18    10 x 2  = 20   \n",
      "6  x 3  = 18    7  x 3  = 21    8  x 3  = 24    9  x 3  = 27    10 x 3  = 30   \n",
      "6  x 4  = 24    7  x 4  = 28    8  x 4  = 32    9  x 4  = 36    10 x 4  = 40   \n",
      "6  x 5  = 30    7  x 5  = 35    8  x 5  = 40    9  x 5  = 45    10 x 5  = 50   \n",
      "6  x 6  = 36    7  x 6  = 42    8  x 6  = 48    9  x 6  = 54    10 x 6  = 60   \n",
      "6  x 7  = 42    7  x 7  = 49    8  x 7  = 56    9  x 7  = 63    10 x 7  = 70   \n",
      "6  x 8  = 48    7  x 8  = 56    8  x 8  = 64    9  x 8  = 72    10 x 8  = 80   \n",
      "6  x 9  = 54    7  x 9  = 63    8  x 9  = 72    9  x 9  = 81    10 x 9  = 90   \n",
      "6  x 10 = 60    7  x 10 = 70    8  x 10 = 80    9  x 10 = 90    10 x 10 = 100  \n"
     ]
    }
   ],
   "source": [
    "str,row=\"ÇARPIM TABLOSU\",list()\n",
    "print(f\"{str:^77}\\n\")\n",
    "for _ in range(21): row.append([])\n",
    "for j in range(1,11):\n",
    "    for i in range(1,11):\n",
    "        if j<6: row[i-1].append(f\"{j:^2} x {i:^2} = {i*j:^3}  \")\n",
    "        else: row[i+10].append(f\"{j:^2} x {i:^2} = {i*j:^3}  \")\n",
    "for line in row: print(*line)"
   ]
  },
  {
   "cell_type": "code",
   "execution_count": 12,
   "metadata": {},
   "outputs": [
    {
     "name": "stdout",
     "output_type": "stream",
     "text": [
      "1 * 1 = 1\n",
      "1 * 2 = 2\n",
      "1 * 3 = 3\n",
      "1 * 4 = 4\n",
      "1 * 5 = 5\n",
      "1 * 6 = 6\n",
      "1 * 7 = 7\n",
      "1 * 8 = 8\n",
      "1 * 9 = 9\n",
      "1 * 10 = 10\n",
      "\t\n",
      "2 * 1 = 2\n",
      "2 * 2 = 4\n",
      "2 * 3 = 6\n",
      "2 * 4 = 8\n",
      "2 * 5 = 10\n",
      "2 * 6 = 12\n",
      "2 * 7 = 14\n",
      "2 * 8 = 16\n",
      "2 * 9 = 18\n",
      "2 * 10 = 20\n",
      "\t\n",
      "3 * 1 = 3\n",
      "3 * 2 = 6\n",
      "3 * 3 = 9\n",
      "3 * 4 = 12\n",
      "3 * 5 = 15\n",
      "3 * 6 = 18\n",
      "3 * 7 = 21\n",
      "3 * 8 = 24\n",
      "3 * 9 = 27\n",
      "3 * 10 = 30\n",
      "\t\n",
      "4 * 1 = 4\n",
      "4 * 2 = 8\n",
      "4 * 3 = 12\n",
      "4 * 4 = 16\n",
      "4 * 5 = 20\n",
      "4 * 6 = 24\n",
      "4 * 7 = 28\n",
      "4 * 8 = 32\n",
      "4 * 9 = 36\n",
      "4 * 10 = 40\n",
      "\t\n",
      "5 * 1 = 5\n",
      "5 * 2 = 10\n",
      "5 * 3 = 15\n",
      "5 * 4 = 20\n",
      "5 * 5 = 25\n",
      "5 * 6 = 30\n",
      "5 * 7 = 35\n",
      "5 * 8 = 40\n",
      "5 * 9 = 45\n",
      "5 * 10 = 50\n",
      "\t\n",
      "6 * 1 = 6\n",
      "6 * 2 = 12\n",
      "6 * 3 = 18\n",
      "6 * 4 = 24\n",
      "6 * 5 = 30\n",
      "6 * 6 = 36\n",
      "6 * 7 = 42\n",
      "6 * 8 = 48\n",
      "6 * 9 = 54\n",
      "6 * 10 = 60\n",
      "\t\n",
      "7 * 1 = 7\n",
      "7 * 2 = 14\n",
      "7 * 3 = 21\n",
      "7 * 4 = 28\n",
      "7 * 5 = 35\n",
      "7 * 6 = 42\n",
      "7 * 7 = 49\n",
      "7 * 8 = 56\n",
      "7 * 9 = 63\n",
      "7 * 10 = 70\n",
      "\t\n",
      "8 * 1 = 8\n",
      "8 * 2 = 16\n",
      "8 * 3 = 24\n",
      "8 * 4 = 32\n",
      "8 * 5 = 40\n",
      "8 * 6 = 48\n",
      "8 * 7 = 56\n",
      "8 * 8 = 64\n",
      "8 * 9 = 72\n",
      "8 * 10 = 80\n",
      "\t\n",
      "9 * 1 = 9\n",
      "9 * 2 = 18\n",
      "9 * 3 = 27\n",
      "9 * 4 = 36\n",
      "9 * 5 = 45\n",
      "9 * 6 = 54\n",
      "9 * 7 = 63\n",
      "9 * 8 = 72\n",
      "9 * 9 = 81\n",
      "9 * 10 = 90\n",
      "\t\n",
      "10 * 1 = 10\n",
      "10 * 2 = 20\n",
      "10 * 3 = 30\n",
      "10 * 4 = 40\n",
      "10 * 5 = 50\n",
      "10 * 6 = 60\n",
      "10 * 7 = 70\n",
      "10 * 8 = 80\n",
      "10 * 9 = 90\n",
      "10 * 10 = 100\n",
      "\t\n"
     ]
    }
   ],
   "source": [
    "sayilar = list(range(1,11))\n",
    "for i in sayilar:\n",
    "    for j in sayilar:\n",
    "        print(f\"{i} * {j} = {i*j}\")\n",
    "    print(\"\\t\")"
   ]
  },
  {
   "cell_type": "markdown",
   "metadata": {},
   "source": [
    "## Problem 3 "
   ]
  },
  {
   "cell_type": "markdown",
   "metadata": {},
   "source": [
    "Create a function to convert a list of percentages to their decimal equivalents.\n",
    "\n",
    "Examples\n",
    "convert_to_decimal([\"1%\", \"2%\", \"3%\"]) ➞ [0.01, 0.02, 0.03]\n",
    "\n",
    "convert_to_decimal([\"45%\", \"32%\", \"97%\", \"33%\"]) ➞ [0.45, 0.32, 0.97, 0.33]\n",
    "\n",
    "convert_to_decimal([\"33%\", \"98.1%\", \"56.44%\", \"100%\"]) ➞ [0.33, 0.981, 0.564"
   ]
  },
  {
   "cell_type": "code",
   "execution_count": 14,
   "metadata": {},
   "outputs": [],
   "source": [
    "def convert_to_decimal(perc):\n",
    " return [float(i.rstrip(\"%\"))/100 for i in perc]\n"
   ]
  },
  {
   "cell_type": "code",
   "execution_count": 15,
   "metadata": {},
   "outputs": [
    {
     "data": {
      "text/plain": [
       "[0.01, 0.02, 0.03]"
      ]
     },
     "execution_count": 15,
     "metadata": {},
     "output_type": "execute_result"
    }
   ],
   "source": [
    "convert_to_decimal([\"1%\", \"2%\", \"3%\"])"
   ]
  },
  {
   "cell_type": "code",
   "execution_count": 19,
   "metadata": {},
   "outputs": [
    {
     "name": "stdout",
     "output_type": "stream",
     "text": [
      "[0.45, 0.32, 0.97, 0.33]\n"
     ]
    }
   ],
   "source": [
    "A=[\"45%\", \"32%\", \"97%\", \"33%\"]\n",
    "B=[]\n",
    "for i in A:\n",
    "    B.append(eval(i[:-1]+'/'+'100'))  # eval= stringde verilen matematiksel işlemleri hesaplayabilen bir fonksiyon\n",
    "print(B)"
   ]
  },
  {
   "cell_type": "markdown",
   "metadata": {},
   "source": [
    "## Problem 4"
   ]
  },
  {
   "cell_type": "markdown",
   "metadata": {},
   "source": [
    "EİNSTEİN’IN ÇÖZEMEDİĞİ SORU\n",
    "Einstein bu soruya 3 yılını vermiş fakat çözememiş diye bir söylenti var. Bakalım siz çözebilecek misiniz?\n",
    "\n",
    "İşte o soru: Eski zamanlarda bir yumurta tüccarı varmış. Yumurta toptancısına gidip bir miktar yumurta almak istemiş.\n",
    "\n",
    "\n",
    "Toptancı ona ne kadar yumurta istediğini sormuş. O da cevaplamış:\n",
    "\n",
    "– Hmm ne kadar yumurta istediğimi tam olarak bilmiyorum ama 100’den fazla olacağı kesin.  Yumurtalarımı ikişer ikişer satarsam bana bir yumurta kalsın Yumurtalarımı üçer üçer satarsam gene bana bir yumurta kalsın. Yumurtalarımı dörder dörder satınca da bana bir yumurta kalsın. Beşer beşer altışar altışar yedişer yedişer sekizer sekizer dokuzar dokuzar onar onar satsam da hep bana bir yumurta kalsın  Ama demiş onbirer onbirer satarsam bana yumurta kalmasına gerek yok! Toptancı başlamış düşünmeye. Sizce yumurtacı toptancıdan en az kaç yumurta almak istemiş?"
   ]
  },
  {
   "cell_type": "code",
   "execution_count": 23,
   "metadata": {},
   "outputs": [
    {
     "name": "stdout",
     "output_type": "stream",
     "text": [
      "25201\n"
     ]
    }
   ],
   "source": [
    "def tum_ekok(lst):\n",
    "    deger=1\n",
    "    for i in lst:\n",
    "        deger = ekok(deger, i)\n",
    "    return deger\n",
    "def ekok(x,y):\n",
    "    return x*y/ebob(x,y)\n",
    "def ebob(x,y):\n",
    "    while y:\n",
    "        d=x\n",
    "        x=y\n",
    "        y=d%y\n",
    "    return x\n",
    "t= tum_ekok([i for i in range(1,11)])\n",
    "print(int(ekok(11,t)-(t-1)))"
   ]
  },
  {
   "cell_type": "code",
   "execution_count": 24,
   "metadata": {},
   "outputs": [
    {
     "name": "stdout",
     "output_type": "stream",
     "text": [
      "25201\n"
     ]
    }
   ],
   "source": [
    "def tum_ekok(lst):\n",
    "    deger=1\n",
    "    for i in lst:\n",
    "        deger = ekok(deger, i)\n",
    "    return deger\n",
    "def ekok(x,y):\n",
    "    return x*y/ebob(x,y)\n",
    "def ebob(x,y):\n",
    "    while y:\n",
    "        d=x\n",
    "        x=y\n",
    "        y=d%y\n",
    "    return x\n",
    "t= tum_ekok([i for i in range(1,11)])\n",
    "print(int(ekok(11,t)-(t-1)))"
   ]
  },
  {
   "cell_type": "markdown",
   "metadata": {},
   "source": [
    "## Problem 5 "
   ]
  },
  {
   "cell_type": "markdown",
   "metadata": {},
   "source": [
    "Kullanıcıdan hh:mm formatında saati alıp, akreple yelkovan arasındaki (en küçük pozitif) açıyı bulan programı yazalım..."
   ]
  },
  {
   "cell_type": "code",
   "execution_count": 25,
   "metadata": {},
   "outputs": [
    {
     "name": "stdout",
     "output_type": "stream",
     "text": [
      "What time is it? (hh:mm): 03:27\n",
      "58.5\n"
     ]
    }
   ],
   "source": [
    "time=input(\"What time is it? (hh:mm): \")\n",
    "hour=int(time.split(':')[0])%12\n",
    "minute=int(time.split(':')[1])\n",
    "ang=abs( (hour+minute/60)*30-minute*6 )\n",
    "print (ang  if ang <180 else 360-ang)"
   ]
  },
  {
   "cell_type": "markdown",
   "metadata": {},
   "source": [
    "## Problem 6 "
   ]
  },
  {
   "cell_type": "markdown",
   "metadata": {},
   "source": [
    "ZENGİN SAYI\n",
    "Bir sayının tüm bölenlerinin –kendisi hariç- toplamı o sayıdan büyükse, o sayıyı ‘zengin sayı’ olarak adlandıralım.\n",
    "\n",
    "Örnek: 12 zengin sayıdır. Çünkü bölenlerini (1,2,3,4,6) topladığımız zaman 16 sayısı elde edilir. (16>12).\n",
    "\n",
    "\n",
    "Hem zengin hem de tek sayı olan en küçük sayıyı bulunuz."
   ]
  },
  {
   "cell_type": "code",
   "execution_count": 26,
   "metadata": {},
   "outputs": [
    {
     "name": "stdout",
     "output_type": "stream",
     "text": [
      "945\n"
     ]
    }
   ],
   "source": [
    "n=3\n",
    "while True:\n",
    "    if sum([i for i in range(1,n//2+1) if not n%i])>n and n%2:print(n);break\n",
    "    n+=1"
   ]
  },
  {
   "cell_type": "code",
   "execution_count": 27,
   "metadata": {},
   "outputs": [
    {
     "name": "stdout",
     "output_type": "stream",
     "text": [
      "ilk tek sayi 945\n"
     ]
    }
   ],
   "source": [
    "for x in range(1,10000):\n",
    "    t=[]\n",
    "    for i in range(1,x):\n",
    "        if x%i==0:\n",
    "            t.append(i)\n",
    "        else:\n",
    "            continue\n",
    "    if sum(t)>x and x%2==1:\n",
    "        print(f\"ilk tek sayi {x}\")\n",
    "        break"
   ]
  },
  {
   "cell_type": "markdown",
   "metadata": {},
   "source": [
    "## Problem 7 "
   ]
  },
  {
   "cell_type": "markdown",
   "metadata": {},
   "source": [
    "Create a function that takes a single string as argument and returns an ordered list containing the indices of all capital letters in the string.\n",
    "\n",
    "Examples\n",
    "index_of_caps(\"eDaBiT\") ➞ [1, 3, 5]\n",
    "\n",
    "index_of_caps(\"eQuINoX\") ➞ [1, 3, 4, 6]\n",
    "\n",
    "index_of_caps(\"determine\") ➞ []\n",
    "\n",
    "index_of_caps(\"STRIKE\") ➞ [0, 1, 2, 3, 4, 5]\n",
    "\n",
    "index_of_caps(\"sUn\") ➞ [1]\n",
    "Notes\n",
    "Return an empty list if no uppercase letters are found in the string.\n",
    "Special characters ($#@%) and numbers will be included in some test cases."
   ]
  },
  {
   "cell_type": "code",
   "execution_count": 29,
   "metadata": {},
   "outputs": [],
   "source": [
    "def index_of_caps(word): \n",
    "    return [word.index(i) for i in word if i.isupper()]"
   ]
  },
  {
   "cell_type": "code",
   "execution_count": 30,
   "metadata": {},
   "outputs": [
    {
     "data": {
      "text/plain": [
       "[1, 3, 5]"
      ]
     },
     "execution_count": 30,
     "metadata": {},
     "output_type": "execute_result"
    }
   ],
   "source": [
    "index_of_caps(\"eDaBiT\") "
   ]
  },
  {
   "cell_type": "markdown",
   "metadata": {},
   "source": [
    "## Problem 8 "
   ]
  },
  {
   "cell_type": "markdown",
   "metadata": {},
   "source": [
    "Row number ı manuel girilerek Floyd Üçgeni oluşturan kodu yazabiliriz."
   ]
  },
  {
   "cell_type": "code",
   "execution_count": 31,
   "metadata": {},
   "outputs": [
    {
     "name": "stdout",
     "output_type": "stream",
     "text": [
      "\n",
      "\n",
      "1 \n",
      "\n",
      "2 3 \n",
      "\n",
      "4 5 6 \n",
      "\n",
      "7 8 9 10 \n",
      "\n",
      "11 12 13 14 15 \n",
      "\n"
     ]
    }
   ],
   "source": [
    "count = 0\n",
    "for x in range(1,7):\n",
    "    for y in range(1,x):\n",
    "        count = count + 1\n",
    "        print(count, end = \" \")\n",
    "    print(\"\\n\")     #Arada bir satır ve boşluk varmış gibi düşündüm."
   ]
  },
  {
   "cell_type": "code",
   "execution_count": 34,
   "metadata": {},
   "outputs": [
    {
     "name": "stdout",
     "output_type": "stream",
     "text": [
      "Enter row number:7\n",
      "1\n",
      "2 3\n",
      "4 5 6\n",
      "7 8 9 10\n",
      "11 12 13 14 15\n",
      "16 17 18 19 20 21\n",
      "22 23 24 25 26 27 28\n"
     ]
    }
   ],
   "source": [
    "row=int(input('Enter row number:'))\n",
    "num=list(range(1,row*(row+1)//2+1))\n",
    "for i in range(1,row+1):\n",
    "    print(*num[:i])\n",
    "    num=num[i:]"
   ]
  },
  {
   "cell_type": "markdown",
   "metadata": {},
   "source": [
    "## Problem 9 "
   ]
  },
  {
   "cell_type": "markdown",
   "metadata": {},
   "source": [
    "Create a function that takes a list of non-negative integers and strings and return a new list without the strings.\n",
    "\n",
    "Examples\n",
    "filter_list([1, 2, \"a\", \"b\"]) ➞ [1, 2]\n",
    "\n",
    "filter_list([1, \"a\", \"b\", 0, 15]) ➞ [1, 0, 15]\n",
    "\n",
    "filter_list([1, 2, \"aasf\", \"1\", \"123\", 123]) ➞ [1, 2, 123]"
   ]
  },
  {
   "cell_type": "code",
   "execution_count": 2,
   "metadata": {},
   "outputs": [],
   "source": [
    "def filter_list(lst):\n",
    "    Liste = []\n",
    "    for i in lst: \n",
    "        if isinstance(i, int): \n",
    "            Liste.append(i) \n",
    "    return Liste\n"
   ]
  },
  {
   "cell_type": "code",
   "execution_count": 3,
   "metadata": {},
   "outputs": [
    {
     "data": {
      "text/plain": [
       "[1, 0, 15]"
      ]
     },
     "execution_count": 3,
     "metadata": {},
     "output_type": "execute_result"
    }
   ],
   "source": [
    "filter_list([1, \"a\", \"b\", 0, 15]) "
   ]
  },
  {
   "cell_type": "code",
   "execution_count": 5,
   "metadata": {},
   "outputs": [
    {
     "data": {
      "text/plain": [
       "[1, 0, 15]"
      ]
     },
     "execution_count": 5,
     "metadata": {},
     "output_type": "execute_result"
    }
   ],
   "source": [
    "def filter_list(lst):\n",
    "  all_num = []\n",
    "  \n",
    "  for i in lst:\n",
    "    if type(i) == int:\n",
    "      all_num.append(i)\n",
    "    else:\n",
    "      pass\n",
    "  return all_num\n",
    "filter_list([1, \"a\", \"b\", 0, 15])"
   ]
  },
  {
   "cell_type": "code",
   "execution_count": 3,
   "metadata": {},
   "outputs": [
    {
     "data": {
      "text/plain": [
       "[1, 0, 15]"
      ]
     },
     "execution_count": 3,
     "metadata": {},
     "output_type": "execute_result"
    }
   ],
   "source": [
    "def filter_list(lst):\n",
    "    return [l for l in lst if isinstance(l, int)]\n",
    "filter_list([1, \"a\", \"b\", 0, 15])"
   ]
  },
  {
   "cell_type": "markdown",
   "metadata": {},
   "source": [
    "## Problem 10 "
   ]
  },
  {
   "cell_type": "markdown",
   "metadata": {},
   "source": [
    "Create a function that takes in two lists: the list of user-typed words, and the list of correctly-typed words and outputs a list containing 1s (correctly-typed words) and -1s (incorrectly-typed words).\n",
    "\n",
    "#Inputs:\n",
    "User-typed: [\"cat\", \"blue\", \"skt\", \"umbrells\", \"paddy\"]\n",
    "Correct: [\"cat\", \"blue\", \"sky\", \"umbrella\", \"paddy\"]\n",
    "\n",
    " Output: [1, 1, -1, -1, 1]\n",
    "Examples\n",
    "correct_stream(\n",
    "  [\"it\", \"is\", \"find\"],\n",
    "  [\"it\", \"is\", \"fine\"]\n",
    ") ➞ [1, 1, -1]\n",
    "\n",
    "correct_stream(\n",
    "  [\"april\", \"showrs\", \"bring\", \"may\", \"flowers\"],\n",
    "  [\"april\", \"showers\", \"bring\", \"may\", \"flowers\"]\n",
    ") ➞ [1, -1, 1, 1, 1]"
   ]
  },
  {
   "cell_type": "code",
   "execution_count": 30,
   "metadata": {},
   "outputs": [],
   "source": [
    "def correct_stream(user, correct):\n",
    "    liste = [1 if i == j else -1 for i,j in zip(user, correct)]\n",
    "    return liste\n",
    "user: [\"cat\", \"blue\", \"skt\", \"umbrells\", \"paddy\"]\n",
    "correct: [\"cat\", \"blue\", \"sky\", \"umbrella\", \"paddy\"]"
   ]
  },
  {
   "cell_type": "markdown",
   "metadata": {},
   "source": [
    "## Problem 11 "
   ]
  },
  {
   "cell_type": "markdown",
   "metadata": {},
   "source": [
    "Create a function that counts how many characters make up a rectangular shape. You will be given a list of strings.\n",
    "\n",
    "Examples\n",
    "count_characters([\n",
    "  \"###\",\n",
    "  \"###\",\n",
    "  \"###\"\n",
    "]) ➞ 9\n",
    "\n",
    "count_characters([\n",
    "  \"22222222\",\n",
    "  \"22222222\",\n",
    "]) ➞ 16\n",
    "\n",
    "count_characters([\n",
    "  \"------------------\"\n",
    "]) ➞ 18\n",
    "\n",
    "count_characters([]) ➞ 0\n",
    "\n",
    "count_characters([ \"\", \"\"]) ➞ 0"
   ]
  },
  {
   "cell_type": "code",
   "execution_count": 33,
   "metadata": {},
   "outputs": [
    {
     "data": {
      "text/plain": [
       "16"
      ]
     },
     "execution_count": 33,
     "metadata": {},
     "output_type": "execute_result"
    }
   ],
   "source": [
    "def count_characters(lst):\n",
    "    return len(\"\".join(lst))\n",
    "count_characters([ \"22222222\", \"22222222\", ]) "
   ]
  },
  {
   "cell_type": "code",
   "execution_count": 35,
   "metadata": {},
   "outputs": [
    {
     "data": {
      "text/plain": [
       "16"
      ]
     },
     "execution_count": 35,
     "metadata": {},
     "output_type": "execute_result"
    }
   ],
   "source": [
    "def count_characters(lst):\n",
    "  return sum(len(i) for i in lst)\n",
    "count_characters([ \"22222222\", \"22222222\", ]) "
   ]
  },
  {
   "cell_type": "code",
   "execution_count": 36,
   "metadata": {},
   "outputs": [
    {
     "data": {
      "text/plain": [
       "16"
      ]
     },
     "execution_count": 36,
     "metadata": {},
     "output_type": "execute_result"
    }
   ],
   "source": [
    "def count_characters(lst):\n",
    "  a = 0\n",
    "  for i in lst:\n",
    "    a += len(i)\n",
    "  return a\n",
    "count_characters([ \"22222222\", \"22222222\", ])"
   ]
  },
  {
   "cell_type": "markdown",
   "metadata": {},
   "source": [
    "## Problem 12 "
   ]
  },
  {
   "cell_type": "markdown",
   "metadata": {},
   "source": [
    "Write a function that creates a dictionary with each (key, value) pair being the (lower case, upper case) versions of a letter, respectively.\n",
    "\n",
    "Examples\n",
    "mapping([\"p\", \"s\"]) ➞ { \"p\": \"P\", \"s\": \"S\" }\n",
    "\n",
    "mapping([\"a\", \"b\", \"c\"]) ➞ { \"a\": \"A\", \"b\": \"B\", \"c\": \"C\" }\n",
    "\n",
    "mapping([\"a\", \"v\", \"y\", \"z\"]) ➞ { \"a\": \"A\", \"v\": \"V\", \"y\": \"Y\", \"z\": \"Z\" "
   ]
  },
  {
   "cell_type": "code",
   "execution_count": 1,
   "metadata": {},
   "outputs": [],
   "source": [
    "def mapping(letters):\n",
    "    return {str(i):i.upper() for i in letters}"
   ]
  },
  {
   "cell_type": "code",
   "execution_count": null,
   "metadata": {},
   "outputs": [],
   "source": []
  }
 ],
 "metadata": {
  "kernelspec": {
   "display_name": "Python 3",
   "language": "python",
   "name": "python3"
  },
  "language_info": {
   "codemirror_mode": {
    "name": "ipython",
    "version": 3
   },
   "file_extension": ".py",
   "mimetype": "text/x-python",
   "name": "python",
   "nbconvert_exporter": "python",
   "pygments_lexer": "ipython3",
   "version": "3.7.6"
  }
 },
 "nbformat": 4,
 "nbformat_minor": 4
}
